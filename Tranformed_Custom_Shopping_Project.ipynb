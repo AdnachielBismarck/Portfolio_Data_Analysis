{
  "nbformat": 4,
  "nbformat_minor": 0,
  "metadata": {
    "colab": {
      "provenance": [],
      "authorship_tag": "ABX9TyOSwV99zeOFuh2U9v4TWeyN",
      "include_colab_link": true
    },
    "kernelspec": {
      "name": "python3",
      "display_name": "Python 3"
    },
    "language_info": {
      "name": "python"
    }
  },
  "cells": [
    {
      "cell_type": "markdown",
      "metadata": {
        "id": "view-in-github",
        "colab_type": "text"
      },
      "source": [
        "<a href=\"https://colab.research.google.com/github/AdnachielBismarck/Portfolio_Data_Analysis/blob/main/Tranformed_Custom_Shopping_Project.ipynb\" target=\"_parent\"><img src=\"https://colab.research.google.com/assets/colab-badge.svg\" alt=\"Open In Colab\"/></a>"
      ]
    },
    {
      "cell_type": "markdown",
      "source": [
        "# **Proyecto de Análisis de Datos: Tendencias de Compra de Clientes**\n",
        "\n",
        "## **Author: Adnachiel Bismarck Avendaño Chavez**\n",
        "\n",
        "## **Fecha: 20/08/2025**"
      ],
      "metadata": {
        "id": "HwtoO7OdZihm"
      }
    },
    {
      "cell_type": "markdown",
      "source": [
        "## *1. Introducción*\n",
        "\n",
        "El análisis de datos de clientes se ha convertido en una herramienta fundamental para comprender patrones de consumo, diseñar estrategias de marketing y mejorar la toma de decisiones empresariales.  \n",
        "En este proyecto se estudian las **tendencias de compra de clientes** utilizando el dataset *transformed_shopping_trends.csv*, disponible en [Mendeley Data](https://data.mendeley.com/datasets/fnhyc6drm8/1).  \n",
        "\n",
        "**Objetivos principales:**\n",
        "- Identificar patrones relevantes en las características demográficas y de consumo de los clientes.  \n",
        "- Calcular indicadores clave (KPIs) que permitan describir el comportamiento de compra.  \n",
        "- Proponer recomendaciones que faciliten la segmentación y fidelización de clientes.  "
      ],
      "metadata": {
        "id": "BHux_mBh6s2s"
      }
    },
    {
      "cell_type": "markdown",
      "source": [
        "## *2. Metodología*\n",
        "\n",
        "La metodología aplicada sigue las siguientes etapas:\n",
        "\n",
        "1. **Carga y exploración de datos:** verificación de estructura, tipos de variables y calidad de los datos.  \n",
        "2. **Análisis exploratorio (EDA):** descripción estadística, distribución de categorías y detección de valores atípicos.  \n",
        "3. **Preprocesamiento:** validación de la limpieza indicada en el dataset original y confirmación de consistencia en los datos.  \n",
        "4. **Ingeniería de características:** revisión de variables derivadas (ej. *Loyalty Score*, *Purchase Frequency Score*).  \n",
        "5. **Cálculo de KPIs:** métricas relevantes que describen patrones de compra, segmentación y comportamiento.  \n",
        "6. **Visualización de resultados:** uso de gráficos para presentar hallazgos clave.  "
      ],
      "metadata": {
        "id": "SWm86gM77mY1"
      }
    },
    {
      "cell_type": "markdown",
      "source": [
        "## *3. Análisis*\n"
      ],
      "metadata": {
        "id": "zYF77mtEzt2v"
      }
    },
    {
      "cell_type": "markdown",
      "source": [
        "##### 1. Carga de librerias y exploración inicial de datos"
      ],
      "metadata": {
        "id": "Z0GaX9SUrQYn"
      }
    },
    {
      "cell_type": "code",
      "execution_count": null,
      "metadata": {
        "id": "KWInzAlhMCkN"
      },
      "outputs": [],
      "source": [
        "# Importación de librerías necesarias\n",
        "import pandas as pd\n",
        "import numpy as np\n",
        "import matplotlib.pyplot as plt\n",
        "import seaborn as sns"
      ]
    },
    {
      "cell_type": "code",
      "source": [
        "# Configuración inicial para visualización\n",
        "sns.set_style(\"whitegrid\")\n",
        "plt.rcParams['figure.figsize'] = (10,5)\n",
        "plt.rcParams['figure.dpi'] = 100"
      ],
      "metadata": {
        "id": "F26bSuXavHG2"
      },
      "execution_count": null,
      "outputs": []
    },
    {
      "cell_type": "code",
      "source": [
        "# Carga y Obtención del dataset de trabajo\n",
        "from google.colab import drive\n",
        "drive.mount('/content/drive')\n",
        "\n",
        "file_path = '/content/drive/MyDrive/Colab Notebooks/Data_Analysis_Projects/Transformed_Customer_Shopping/transformed_shopping_trends.csv'\n",
        "\n",
        "# Cargar archivo como CSV\n",
        "try:\n",
        "  data=pd.read_csv(file_path)\n",
        "  print(\"Dataset cargado exitosamente.\")\n",
        "except FileNotFoundError:\n",
        "  print(f\"Error: El archivo no se encontró en la ruta especificada.{file_path}\")"
      ],
      "metadata": {
        "id": "jHIQ4_Kuvuwl",
        "colab": {
          "base_uri": "https://localhost:8080/"
        },
        "outputId": "beb6b3d2-e37d-4ff3-f32e-257978f921d7"
      },
      "execution_count": null,
      "outputs": [
        {
          "output_type": "stream",
          "name": "stdout",
          "text": [
            "Drive already mounted at /content/drive; to attempt to forcibly remount, call drive.mount(\"/content/drive\", force_remount=True).\n",
            "Dataset cargado exitosamente.\n"
          ]
        }
      ]
    },
    {
      "cell_type": "markdown",
      "source": [
        "###### 2. Análisis exploratorio (EDA)\n",
        "\n",
        "###### 2.1 Descripción general y estadística"
      ],
      "metadata": {
        "id": "MTVy9i03sKCX"
      }
    },
    {
      "cell_type": "code",
      "source": [
        "# Exploración inicial de datos\n",
        "\n",
        "print(\"\\n Primeras 5 filas del dataframe:\")\n",
        "print(data.head())\n",
        "print(\"\\n Últimas 5 filas del dataframe:\")\n",
        "print(data.tail())\n",
        "print(\"\\n Información general del dataframe:\")\n",
        "print(data.info())\n",
        "print(\"\\n Descripción estadística del dataframe:\")\n",
        "print(data.describe())\n",
        "print(\"\\n Valores faltante por columna:\")\n",
        "print(data.isnull().sum())\n",
        "print(\"\\n Número de filas duplicadas:\")\n",
        "print(data.duplicated().sum())"
      ],
      "metadata": {
        "colab": {
          "base_uri": "https://localhost:8080/"
        },
        "id": "LY7eV7sRzzNa",
        "outputId": "52585085-2900-4a6f-fb4c-e23fb44e1e85"
      },
      "execution_count": null,
      "outputs": [
        {
          "output_type": "stream",
          "name": "stdout",
          "text": [
            "\n",
            " Primeras 5 filas del dataframe:\n",
            "   Age Gender Item Purchased   Category  Purchase Amount (USD) Size   Color  \\\n",
            "0   21   Male        Sandals   Footwear               1.276716    M  Maroon   \n",
            "1   63   Male          Shirt   Clothing               1.065588    M    Gray   \n",
            "2   26   Male           Coat  Outerwear               1.572295    L  Silver   \n",
            "3   64   Male          Skirt   Clothing               0.896686    M    Teal   \n",
            "4   66   Male          Pants   Clothing               1.276716    M   Green   \n",
            "\n",
            "   Season  Review Rating Subscription Status  ... Discount_Impact  \\\n",
            "0  Spring      -0.349027                 Yes  ...        1.944298   \n",
            "1    Fall      -0.767944                 Yes  ...        1.793601   \n",
            "2  Summer      -1.605780                 Yes  ...        2.155275   \n",
            "3  Winter      -1.326501                 Yes  ...        1.673043   \n",
            "4  Summer      -0.628305                 Yes  ...        1.944298   \n",
            "\n",
            "  Processing_Date Log_Purchase Amount (USD) Log_Previous Purchases  \\\n",
            "0      2025-07-13                  0.822734               0.969683   \n",
            "1      2025-07-13                  0.725415               0.969683   \n",
            "2      2025-07-13                  0.944798               0.000000   \n",
            "3      2025-07-13                  0.640108               0.000000   \n",
            "4      2025-07-13                  0.822734               0.887655   \n",
            "\n",
            "   Category_Avg_Purchase Loyalty_Score Customer_Segment  Anomaly_Flag  \\\n",
            "0               0.020736      3.363216                0         False   \n",
            "1               0.011020     -1.312149                0         False   \n",
            "2              -0.109428      1.177163                1          True   \n",
            "3               0.011020      0.391020                1         False   \n",
            "4               0.011020      0.725342                0         False   \n",
            "\n",
            "   Is_Clothing                                 Customer_ID_Hashed  \n",
            "0            0  4b227777d4dd1fc61c6f884f48641d02b4d121d3fd328c...  \n",
            "1            1  7902699be42c8a8e46fbbb4501726517e86b22c56a189f...  \n",
            "2            0  19581e27de7ced00ff1ce50b2047e7a567c76b1cbaebab...  \n",
            "3            1  b17ef6d19c7a5b1ee83b907c595526dcb1eb06db8227d6...  \n",
            "4            1  f5ca38f748a1d6eaf726b8a42fb575c3c71f1864a81433...  \n",
            "\n",
            "[5 rows x 33 columns]\n",
            "\n",
            " Últimas 5 filas del dataframe:\n",
            "     Age  Gender Item Purchased     Category  Purchase Amount (USD) Size  \\\n",
            "973   35  Female          Pants     Clothing               1.487844    L   \n",
            "974   37  Female        Jewelry  Accessories               1.361167    S   \n",
            "975   35  Female          Shirt     Clothing               0.896686   Xl   \n",
            "976   35  Female        Jewelry  Accessories               1.107814    L   \n",
            "977   52  Female        Handbag  Accessories               0.896686    M   \n",
            "\n",
            "      Color  Season  Review Rating Subscription Status  ... Discount_Impact  \\\n",
            "973    Blue    Fall      -1.605780                  No  ...       -0.768256   \n",
            "974   Brown  Summer       0.209530                  No  ...       -0.768256   \n",
            "975   Green  Winter      -1.605780                  No  ...       -0.768256   \n",
            "976  Indigo  Summer      -0.349027                  No  ...       -0.768256   \n",
            "977   Beige  Spring      -0.907584                  No  ...       -0.768256   \n",
            "\n",
            "    Processing_Date Log_Purchase Amount (USD) Log_Previous Purchases  \\\n",
            "973      2025-07-13                  0.911416               0.000000   \n",
            "974      2025-07-13                  0.859156               0.700156   \n",
            "975      2025-07-13                  0.640108               0.424927   \n",
            "976      2025-07-13                  0.745651               0.000000   \n",
            "977      2025-07-13                  0.640108               0.424927   \n",
            "\n",
            "     Category_Avg_Purchase Loyalty_Score Customer_Segment  Anomaly_Flag  \\\n",
            "973               0.011020     -0.047477                0         False   \n",
            "974               0.003139     -0.812779                0         False   \n",
            "975               0.011020     -0.518887                0         False   \n",
            "976               0.003139     -0.714912                2         False   \n",
            "977               0.003139     -0.424379                0         False   \n",
            "\n",
            "     Is_Clothing                                 Customer_ID_Hashed  \n",
            "973            1  2a783f5db09827a7268061e9301367008827e2b835a233...  \n",
            "974            0  2f9fdc64dc67313294ece417fa8006f8e78044a0ec1a55...  \n",
            "975            1  f71cbfce4cd7b26781662e4a8f0230be3ce4690449091c...  \n",
            "976            0  678f2f24525785e9460d8f8599e6006f0187765f628584...  \n",
            "977            0  d82e950a6d46a5846afae57c4f69ae3a40c08de1c258b1...  \n",
            "\n",
            "[5 rows x 33 columns]\n",
            "\n",
            " Información general del dataframe:\n",
            "<class 'pandas.core.frame.DataFrame'>\n",
            "RangeIndex: 978 entries, 0 to 977\n",
            "Data columns (total 33 columns):\n",
            " #   Column                       Non-Null Count  Dtype  \n",
            "---  ------                       --------------  -----  \n",
            " 0   Age                          978 non-null    int64  \n",
            " 1   Gender                       978 non-null    object \n",
            " 2   Item Purchased               978 non-null    object \n",
            " 3   Category                     978 non-null    object \n",
            " 4   Purchase Amount (USD)        978 non-null    float64\n",
            " 5   Size                         978 non-null    object \n",
            " 6   Color                        978 non-null    object \n",
            " 7   Season                       978 non-null    object \n",
            " 8   Review Rating                978 non-null    float64\n",
            " 9   Subscription Status          978 non-null    object \n",
            " 10  Payment Method               978 non-null    object \n",
            " 11  Shipping Type                978 non-null    object \n",
            " 12  Discount Applied             978 non-null    object \n",
            " 13  Promo Code Used              978 non-null    object \n",
            " 14  Previous Purchases           978 non-null    float64\n",
            " 15  Preferred Payment Method     978 non-null    object \n",
            " 16  Frequency of Purchases       978 non-null    object \n",
            " 17  Original_Purchase_Amount     978 non-null    int64  \n",
            " 18  Original_Previous_Purchases  978 non-null    int64  \n",
            " 19  Original_Review_Rating       978 non-null    float64\n",
            " 20  Avg_Amount_Per_Purchase      978 non-null    float64\n",
            " 21  Age_Group                    978 non-null    object \n",
            " 22  Purchase_Frequency_Score     978 non-null    float64\n",
            " 23  Discount_Impact              978 non-null    float64\n",
            " 24  Processing_Date              978 non-null    object \n",
            " 25  Log_Purchase Amount (USD)    978 non-null    float64\n",
            " 26  Log_Previous Purchases       978 non-null    float64\n",
            " 27  Category_Avg_Purchase        978 non-null    float64\n",
            " 28  Loyalty_Score                978 non-null    float64\n",
            " 29  Customer_Segment             978 non-null    int64  \n",
            " 30  Anomaly_Flag                 978 non-null    bool   \n",
            " 31  Is_Clothing                  978 non-null    int64  \n",
            " 32  Customer_ID_Hashed           978 non-null    object \n",
            "dtypes: bool(1), float64(11), int64(5), object(16)\n",
            "memory usage: 245.6+ KB\n",
            "None\n",
            "\n",
            " Descripción estadística del dataframe:\n",
            "              Age  Purchase Amount (USD)  Review Rating  Previous Purchases  \\\n",
            "count  978.000000             978.000000     978.000000          978.000000   \n",
            "mean    44.176892               1.300117       0.042049            0.018984   \n",
            "std     15.304631               0.243298       1.015873            1.030892   \n",
            "min     18.000000               0.896686      -1.745419           -1.685779   \n",
            "25%     31.000000               1.065588      -0.767944           -0.924284   \n",
            "50%     44.000000               1.318941       0.069891           -0.024336   \n",
            "75%     57.000000               1.530069       0.907727            0.944839   \n",
            "max     70.000000               1.698971       1.745562            1.706334   \n",
            "\n",
            "       Original_Purchase_Amount  Original_Previous_Purchases  \\\n",
            "count                978.000000                   978.000000   \n",
            "mean                  90.554192                    25.625767   \n",
            "std                    5.761876                    14.891523   \n",
            "min                   81.000000                     1.000000   \n",
            "25%                   85.000000                    12.000000   \n",
            "50%                   91.000000                    25.000000   \n",
            "75%                   96.000000                    39.000000   \n",
            "max                  100.000000                    50.000000   \n",
            "\n",
            "       Original_Review_Rating  Avg_Amount_Per_Purchase  \\\n",
            "count              978.000000               978.000000   \n",
            "mean                 3.780061                 0.267392   \n",
            "std                  0.727498                 1.353867   \n",
            "min                  2.500000                -0.371828   \n",
            "25%                  3.200000                -0.303032   \n",
            "50%                  3.800000                -0.184575   \n",
            "75%                  4.400000                 0.160081   \n",
            "max                  5.000000                 9.024885   \n",
            "\n",
            "       Purchase_Frequency_Score  Discount_Impact  Log_Purchase Amount (USD)  \\\n",
            "count                978.000000       978.000000                 978.000000   \n",
            "mean                  -0.018306         0.352668                   0.827286   \n",
            "std                    0.994950         1.346844                   0.107014   \n",
            "min                   -0.979997        -0.768256                   0.640108   \n",
            "25%                   -0.801505        -0.768256                   0.725415   \n",
            "50%                   -0.325526        -0.768256                   0.841111   \n",
            "75%                    0.507436         1.914159                   0.928247   \n",
            "max                    2.054365         2.245693                   0.992871   \n",
            "\n",
            "       Log_Previous Purchases  Category_Avg_Purchase  Loyalty_Score  \\\n",
            "count              978.000000             978.000000     978.000000   \n",
            "mean                 0.305437               0.000492       0.007949   \n",
            "std                  0.366495               0.032884       1.034069   \n",
            "min                  0.000000              -0.109428      -3.463205   \n",
            "25%                  0.000000               0.003139      -0.574399   \n",
            "50%                  0.000000               0.011020       0.019505   \n",
            "75%                  0.665179               0.011020       0.584829   \n",
            "max                  0.995595               0.020736       3.505433   \n",
            "\n",
            "       Customer_Segment  Is_Clothing  \n",
            "count        978.000000   978.000000  \n",
            "mean           0.498978     0.453988  \n",
            "std            0.734094     0.498133  \n",
            "min            0.000000     0.000000  \n",
            "25%            0.000000     0.000000  \n",
            "50%            0.000000     0.000000  \n",
            "75%            1.000000     1.000000  \n",
            "max            2.000000     1.000000  \n",
            "\n",
            " Valores faltante por columna:\n",
            "Age                            0\n",
            "Gender                         0\n",
            "Item Purchased                 0\n",
            "Category                       0\n",
            "Purchase Amount (USD)          0\n",
            "Size                           0\n",
            "Color                          0\n",
            "Season                         0\n",
            "Review Rating                  0\n",
            "Subscription Status            0\n",
            "Payment Method                 0\n",
            "Shipping Type                  0\n",
            "Discount Applied               0\n",
            "Promo Code Used                0\n",
            "Previous Purchases             0\n",
            "Preferred Payment Method       0\n",
            "Frequency of Purchases         0\n",
            "Original_Purchase_Amount       0\n",
            "Original_Previous_Purchases    0\n",
            "Original_Review_Rating         0\n",
            "Avg_Amount_Per_Purchase        0\n",
            "Age_Group                      0\n",
            "Purchase_Frequency_Score       0\n",
            "Discount_Impact                0\n",
            "Processing_Date                0\n",
            "Log_Purchase Amount (USD)      0\n",
            "Log_Previous Purchases         0\n",
            "Category_Avg_Purchase          0\n",
            "Loyalty_Score                  0\n",
            "Customer_Segment               0\n",
            "Anomaly_Flag                   0\n",
            "Is_Clothing                    0\n",
            "Customer_ID_Hashed             0\n",
            "dtype: int64\n",
            "\n",
            " Número de filas duplicadas:\n",
            "0\n"
          ]
        }
      ]
    },
    {
      "cell_type": "markdown",
      "source": [
        "##### 2.2 Análisis de la distribución de categorías clave"
      ],
      "metadata": {
        "id": "-AYxWV-rkvtv"
      }
    },
    {
      "cell_type": "code",
      "source": [
        "# Obtención de la distribución de las categorías\n",
        "print(\"\\n Distribución de Género:\")\n",
        "print(data['Gender'].value_counts())\n",
        "\n",
        "print(\"\\n Distribuciuón de Categoría de Producto:\")\n",
        "print(data['Category'].value_counts())\n",
        "\n",
        "print(\"\\n Distribución de Temporada:\")\n",
        "print(data['Season'].value_counts())\n",
        "\n",
        "print(\"\\n Distribución de Método de Pago Prefereido:\")\n",
        "print(data['Preferred Payment Method'].value_counts())\n",
        "\n",
        "print(\"\\n Distribución de Frecuencia de compras:\")\n",
        "print(data['Frequency of Purchases'].value_counts())\n",
        "\n",
        "print(\"\\n Distribución de Grupos de edad:\")\n",
        "print(data['Age_Group'].value_counts())\n",
        "\n",
        "print(\"\\n Distribución de Segmento de Clientes:\")\n",
        "print(data['Customer_Segment'].value_counts())\n",
        "\n",
        "print(\"\\n Distribución de Anomaly Flag:\")\n",
        "print(data['Anomaly_Flag'].value_counts())"
      ],
      "metadata": {
        "colab": {
          "base_uri": "https://localhost:8080/"
        },
        "id": "F1kI-6Y5YYEn",
        "outputId": "edc2c15f-7f95-4336-a2fd-01e1bffd0d19"
      },
      "execution_count": null,
      "outputs": [
        {
          "output_type": "stream",
          "name": "stdout",
          "text": [
            "\n",
            " Distribución de Género:\n",
            "Gender\n",
            "Male      659\n",
            "Female    319\n",
            "Name: count, dtype: int64\n",
            "\n",
            " Distribuciuón de Categoría de Producto:\n",
            "Category\n",
            "Clothing       444\n",
            "Accessories    303\n",
            "Footwear       153\n",
            "Outerwear       78\n",
            "Name: count, dtype: int64\n",
            "\n",
            " Distribución de Temporada:\n",
            "Season\n",
            "Fall      277\n",
            "Winter    242\n",
            "Spring    235\n",
            "Summer    224\n",
            "Name: count, dtype: int64\n",
            "\n",
            " Distribución de Método de Pago Prefereido:\n",
            "Preferred Payment Method\n",
            "Debit Card       176\n",
            "Paypal           172\n",
            "Credit Card      172\n",
            "Venmo            162\n",
            "Cash             155\n",
            "Bank Transfer    141\n",
            "Name: count, dtype: int64\n",
            "\n",
            " Distribución de Frecuencia de compras:\n",
            "Frequency of Purchases\n",
            "Annually          154\n",
            "Every 3 Months    153\n",
            "Bi-Weekly         144\n",
            "Quarterly         137\n",
            "Fortnightly       132\n",
            "Weekly            130\n",
            "Monthly           128\n",
            "Name: count, dtype: int64\n",
            "\n",
            " Distribución de Grupos de edad:\n",
            "Age_Group\n",
            "Young Adult    309\n",
            "Senior         295\n",
            "Adult          269\n",
            "Elder           89\n",
            "Teen            16\n",
            "Name: count, dtype: int64\n",
            "\n",
            " Distribución de Segmento de Clientes:\n",
            "Customer_Segment\n",
            "0    631\n",
            "1    206\n",
            "2    141\n",
            "Name: count, dtype: int64\n",
            "\n",
            " Distribución de Anomaly Flag:\n",
            "Anomaly_Flag\n",
            "False    798\n",
            "True     180\n",
            "Name: count, dtype: int64\n"
          ]
        }
      ]
    },
    {
      "cell_type": "markdown",
      "source": [
        "##### 3. Preprocesamiento y Limpieza de datos"
      ],
      "metadata": {
        "id": "1ZE_XnREmOEF"
      }
    },
    {
      "cell_type": "code",
      "source": [
        "# Verficación del rango de la columna 'Age'\n",
        "if not ((data['Age']<0)|(data['Age']>100)).empty:\n",
        "  print(\"Advertencia: Se encontraron edades fuera del rango [0,100] a pesar de la limpieza indicada.\")\n",
        "else:\n",
        "  print(\"Validación de la columna 'Age': Todas las edades estan dentro del rango [0,100].\" )\n",
        "\n",
        "valid_categories=['Clothing','Footwear','Outerwear','Accessories']\n",
        "\n",
        "# Validación de las categorías de productos (Clothing, Footwear, Outwear, Accesories)\n",
        "if not data[~data['Category'].isin(valid_categories)].empty:\n",
        "  print(\"Advertencia: Se encontraron categorias de producto no validas a pesar de la limpieza de indicada.\")\n",
        "else:\n",
        "  print(\"Validación de 'Category':Todas las categorias son válidas.\")\n",
        "\n",
        "# Re-verficación de valores faltantes\n",
        "if data.isnull().sum().sum()>0:\n",
        "  print(\"\\n Todavía hay valores faltantes. Considerar imputación o eliminación si es necesario.\")\n",
        "else:\n",
        "  print(\"\\n No se encontraron valores faltantes después de la carga inicial (confirmado por Readme.md).\")\n",
        "\n",
        "# Eliminación de duplicados\n",
        "if data.duplicated().sum()>0:\n",
        "  print(f\"\\n Se encontraron {data.duplicated().sum()} filas duplicadas. Eiminando...\")\n",
        "  data.drop_duplicates(inplace=True)\n",
        "  print(\"Duplicados eliminados.\")\n",
        "else:\n",
        "  print(\"\\n No se encontraron filas duplicadas.\")\n",
        "\n",
        "# Verficación y Conversión del tipo de datos de fecha en la columna 'Processing_Date'\n",
        "if not pd.api.types.is_datetime64_any_dtype(data['Processing_Date']):\n",
        "  data['Processing_Date']=pd.to_datetime(data['Processing_Date'])\n",
        "  print(\"Columna 'Processing_Date' convertida a tipo datetime.\")\n",
        "else:\n",
        "  print(\"Columna 'Processing_Date' ya es de tipo datetime.\")\n",
        "\n",
        "# Verficación del rango de la columna 'Review Rating'\n",
        "if not ((data['Review Rating']>=0) & (data['Review Rating']<=5)).all():\n",
        "  print (\"Advertencia: 'Review Rating' fuera del rango [0,5] a pesar de la limpieza indicada.\")\n",
        "else:\n",
        "  print(\"'Review Rating' validado en el rango [0,5].\")"
      ],
      "metadata": {
        "colab": {
          "base_uri": "https://localhost:8080/"
        },
        "id": "8umUstTs07AQ",
        "outputId": "ada2f44d-6d67-401c-9870-2725cf8008c6"
      },
      "execution_count": null,
      "outputs": [
        {
          "output_type": "stream",
          "name": "stdout",
          "text": [
            "Advertencia: Se encontraron edades fuera del rango [0,100] a pesar de la limpieza indicada.\n",
            "Validación de 'Category':Todas las categorias son válidas.\n",
            "\n",
            " No se encontraron valores faltantes después de la carga inicial (confirmado por Readme.md).\n",
            "\n",
            " No se encontraron filas duplicadas.\n",
            "Columna 'Processing_Date' convertida a tipo datetime.\n",
            "Advertencia: 'Review Rating' fuera del rango [0,5] a pesar de la limpieza indicada.\n"
          ]
        }
      ]
    },
    {
      "cell_type": "markdown",
      "source": [
        "##### 4. Descripción de características ingenierizadas"
      ],
      "metadata": {
        "id": "kEIzfOx-xmkw"
      }
    },
    {
      "cell_type": "code",
      "source": [
        "# Listado de columnas ingenierizadas según el archivo Readme.md\n",
        "engineered_features=[\n",
        "    'Avg_Amount_Per_Purchase', 'Age_Group','Purchase_Frequency_Score','Discount_Impact',\n",
        "    'Category_Avg_Purchase', 'Loyalty_Score','Customer_Segment','Anomaly_Flag', 'Is_Clothing'\n",
        "]\n",
        "for col in engineered_features:\n",
        "  if col in data.columns:\n",
        "    print(f\"-{col}:{data[col].dtype}\")\n",
        "else:\n",
        "      print(f\"-{col}:No encontrada en el DataFrame.\")\n",
        "\n",
        "# Estadística Descriptiva de las columnas ingenierizadas\n",
        "print(\"\\n Estadísticas descriptivas de algunas características ingenierizadas:\")\n",
        "print(data[engineered_features].describe())"
      ],
      "metadata": {
        "colab": {
          "base_uri": "https://localhost:8080/"
        },
        "id": "2u1eYnHcLuCZ",
        "outputId": "35f43ea1-dfff-4e39-fc98-08e49de33d27"
      },
      "execution_count": null,
      "outputs": [
        {
          "output_type": "stream",
          "name": "stdout",
          "text": [
            "-Avg_Amount_Per_Purchase:float64\n",
            "-Age_Group:object\n",
            "-Purchase_Frequency_Score:float64\n",
            "-Discount_Impact:float64\n",
            "-Category_Avg_Purchase:float64\n",
            "-Loyalty_Score:float64\n",
            "-Customer_Segment:int64\n",
            "-Anomaly_Flag:bool\n",
            "-Is_Clothing:int64\n",
            "-Is_Clothing:No encontrada en el DataFrame.\n",
            "\n",
            " Estadísticas descriptivas de algunas características ingenierizadas:\n",
            "       Avg_Amount_Per_Purchase  Purchase_Frequency_Score  Discount_Impact  \\\n",
            "count               978.000000                978.000000       978.000000   \n",
            "mean                  0.267392                 -0.018306         0.352668   \n",
            "std                   1.353867                  0.994950         1.346844   \n",
            "min                  -0.371828                 -0.979997        -0.768256   \n",
            "25%                  -0.303032                 -0.801505        -0.768256   \n",
            "50%                  -0.184575                 -0.325526        -0.768256   \n",
            "75%                   0.160081                  0.507436         1.914159   \n",
            "max                   9.024885                  2.054365         2.245693   \n",
            "\n",
            "       Category_Avg_Purchase  Loyalty_Score  Customer_Segment  Is_Clothing  \n",
            "count             978.000000     978.000000        978.000000   978.000000  \n",
            "mean                0.000492       0.007949          0.498978     0.453988  \n",
            "std                 0.032884       1.034069          0.734094     0.498133  \n",
            "min                -0.109428      -3.463205          0.000000     0.000000  \n",
            "25%                 0.003139      -0.574399          0.000000     0.000000  \n",
            "50%                 0.011020       0.019505          0.000000     0.000000  \n",
            "75%                 0.011020       0.584829          1.000000     1.000000  \n",
            "max                 0.020736       3.505433          2.000000     1.000000  \n"
          ]
        }
      ]
    },
    {
      "cell_type": "markdown",
      "source": [
        "## KPIs Definidos\n",
        "\n",
        "Se seleccionaron los siguientes indicadores clave para describir las tendencias de consumo:\n",
        "\n",
        "- Valor promedio de compra (AOV)  \n",
        "- Frecuencia de compra promedio (Score)\n",
        "- Tasa de  clientes leales (Loyalty_Score)\n",
        "- Rendimiento por categoría de producto\n",
        "- Impacto del descuento\n",
        "- Distribución de segmentos de clientes\n",
        "- Tasa de anomalías\n",
        "- Preferencia de pagos y envíos\n",
        "\n",
        "Cada uno de estos indicadores se calculó a partir de las variables ingenierizadas disponibles en el dataset.  \n"
      ],
      "metadata": {
        "id": "OFV09B9T2LAQ"
      }
    },
    {
      "cell_type": "markdown",
      "source": [
        "##### Valor Promedio de compra"
      ],
      "metadata": {
        "id": "fe4yPgoNy-Hg"
      }
    },
    {
      "cell_type": "code",
      "source": [
        "# Cálculo del valor promedio de compra (AOV - Average Order Value)\n",
        "aov=data['Purchase Amount (USD)'].mean()\n",
        "print(f\"\\n   1. Valor Promedio de compra (AOV):{aov:.2f} USD\")\n",
        "\n",
        "# Segmentación del AOV por categoría\n",
        "print(\"\\n AOV por Género:\")\n",
        "print(data.groupby('Gender')['Purchase Amount (USD)'].mean().round(2))\n",
        "\n",
        "print(\"\\n AOV por Grupo de Edad:\")\n",
        "print(data.groupby('Age_Group')['Purchase Amount (USD)'].mean().round(2))\n",
        "\n",
        "print(\"\\n AOV por Categoría de Producto:\")\n",
        "print(data.groupby('Category')['Purchase Amount (USD)'].mean().round(2))\n",
        "\n",
        "print(\"\\n AOV por Temporada:\")\n",
        "print(data.groupby('Season')['Purchase Amount (USD)'].mean().round(2))\n",
        "\n",
        "print(\"\\n AOV por Segmento de Clientes:\")\n",
        "print(data.groupby('Customer_Segment')['Purchase Amount (USD)'].mean().round(2))"
      ],
      "metadata": {
        "colab": {
          "base_uri": "https://localhost:8080/"
        },
        "id": "6x0HR5A7U93e",
        "outputId": "b527ddf2-bd86-4abd-e1c4-5c4b262a9032"
      },
      "execution_count": null,
      "outputs": [
        {
          "output_type": "stream",
          "name": "stdout",
          "text": [
            "\n",
            "   1. Valor Promedio de compra (AOV):1.30 USD\n",
            "\n",
            " AOV por Género:\n",
            "Gender\n",
            "Female    1.29\n",
            "Male      1.30\n",
            "Name: Purchase Amount (USD), dtype: float64\n",
            "\n",
            " AOV por Grupo de Edad:\n",
            "Age_Group\n",
            "Adult          1.30\n",
            "Elder          1.31\n",
            "Senior         1.29\n",
            "Teen           1.37\n",
            "Young Adult    1.31\n",
            "Name: Purchase Amount (USD), dtype: float64\n",
            "\n",
            " AOV por Categoría de Producto:\n",
            "Category\n",
            "Accessories    1.29\n",
            "Clothing       1.30\n",
            "Footwear       1.31\n",
            "Outerwear      1.30\n",
            "Name: Purchase Amount (USD), dtype: float64\n",
            "\n",
            " AOV por Temporada:\n",
            "Season\n",
            "Fall      1.31\n",
            "Spring    1.30\n",
            "Summer    1.28\n",
            "Winter    1.30\n",
            "Name: Purchase Amount (USD), dtype: float64\n",
            "\n",
            " AOV por Segmento de Clientes:\n",
            "Customer_Segment\n",
            "0    1.31\n",
            "1    1.30\n",
            "2    1.27\n",
            "Name: Purchase Amount (USD), dtype: float64\n"
          ]
        }
      ]
    },
    {
      "cell_type": "markdown",
      "source": [
        "##### Frecuencia de Compra promedio"
      ],
      "metadata": {
        "id": "xhTdFfD-5vHg"
      }
    },
    {
      "cell_type": "code",
      "source": [
        "# Se asume que un Purchase_Frequency_Score más alto indica mayor frecuencia de compra\n",
        "avg_freq_score=data['Purchase_Frequency_Score'].mean()\n",
        "print(f\"\\n   2. Frecuencia de Compra Promedio (Score):{avg_freq_score:.2f}\")\n",
        "\n",
        "#Cálculo de la frecuencia de compras original\n",
        "print(\"\\n Distribución de Frecuencia de Compras (Original:)\")\n",
        "print(data['Frequency of Purchases'].value_counts(normalize=True).round(2))\n",
        "\n",
        "# Cálculo de la frecuencia de compra por cliente\n",
        "print(\"\\n Frecuendia de Compra (Score) por Segmento de Cliente:\")\n",
        "print(data.groupby('Customer_Segment')['Purchase_Frequency_Score'].mean().round(2))\n"
      ],
      "metadata": {
        "colab": {
          "base_uri": "https://localhost:8080/"
        },
        "id": "ejS54Ri7ZDK9",
        "outputId": "c4e97d11-9b41-48b6-ac1a-29a25657695c"
      },
      "execution_count": null,
      "outputs": [
        {
          "output_type": "stream",
          "name": "stdout",
          "text": [
            "\n",
            "   2. Frecuencia de Compra Promedio (Score):-0.02\n",
            "\n",
            " Distribución de Frecuencia de Compras (Original:)\n",
            "Frequency of Purchases\n",
            "Annually          0.16\n",
            "Every 3 Months    0.16\n",
            "Bi-Weekly         0.15\n",
            "Quarterly         0.14\n",
            "Fortnightly       0.13\n",
            "Weekly            0.13\n",
            "Monthly           0.13\n",
            "Name: proportion, dtype: float64\n",
            "\n",
            " Frecuendia de Compra (Score) por Segmento de Cliente:\n",
            "Customer_Segment\n",
            "0   -0.09\n",
            "1   -0.69\n",
            "2    1.30\n",
            "Name: Purchase_Frequency_Score, dtype: float64\n"
          ]
        }
      ]
    },
    {
      "cell_type": "markdown",
      "source": [
        "##### Tasa de Clientes Leales"
      ],
      "metadata": {
        "id": "5RUPUUfI6Thl"
      }
    },
    {
      "cell_type": "code",
      "source": [
        "# Cálculo de la tasa de lealtad ajustado al 25% más leales\n",
        "loyalty_threshold     = data['Loyalty_Score'].quantile(0.75)\n",
        "loyal_customer_count  = data[data['Loyalty_Score'] > loyalty_threshold].shape[0]\n",
        "total_customers_count = data.shape[0]\n",
        "loyalty_rate          = (loyal_customer_count / total_customers_count)*100\n",
        "print(f\"\\n   3. Tasa de  Clientes Leales (Loyalty_Score > {loyalty_threshold:.2f}):{loyalty_rate:.2f}%\")\n",
        "\n",
        "# Cálculo de lealtad por segmento de cliente\n",
        "print(\"\\nLealtad Promedio (Score) por Segmento de Cliente:\")\n",
        "print(data.groupby('Customer_Segment')['Loyalty_Score'].mean().round(2))"
      ],
      "metadata": {
        "colab": {
          "base_uri": "https://localhost:8080/"
        },
        "id": "VGTorMnzeZDe",
        "outputId": "5efcbca6-aba5-4281-c79d-5f66da84e6aa"
      },
      "execution_count": null,
      "outputs": [
        {
          "output_type": "stream",
          "name": "stdout",
          "text": [
            "\n",
            "   3. Tasa de  Clientes Leales (Loyalty_Score > 0.58):24.85%\n",
            "\n",
            "Lealtad Promedio (Score) por Segmento de Cliente:\n",
            "Customer_Segment\n",
            "0    0.00\n",
            "1    0.80\n",
            "2   -1.11\n",
            "Name: Loyalty_Score, dtype: float64\n"
          ]
        }
      ]
    },
    {
      "cell_type": "markdown",
      "source": [
        "##### Rendimiento por categoría de producto"
      ],
      "metadata": {
        "id": "7ECBx-sN_PPv"
      }
    },
    {
      "cell_type": "code",
      "source": [
        "# Cálculo del promedio de compra por categoría\n",
        "print(\"\\n   4. Rendimiento por Categoría de Producto:\")\n",
        "print(\"Promedio de Compra por Categoría (Category_avg_Purchase):\")\n",
        "category_performance=data.groupby('Category')['Purchase Amount (USD)'].mean().round(2)\n",
        "print(category_performance)\n",
        "\n",
        "# Cálculo del total de ventas por categoría\n",
        "total_sales_by_category=data.groupby('Category')['Purchase Amount (USD)'].sum()\n",
        "print(\"\\nTotal de Ventas por Categoría:\")\n",
        "print(total_sales_by_category)"
      ],
      "metadata": {
        "colab": {
          "base_uri": "https://localhost:8080/"
        },
        "id": "bvk-XfVtjmQ4",
        "outputId": "11c4bae5-46b8-480d-ce3e-63849c172abb"
      },
      "execution_count": null,
      "outputs": [
        {
          "output_type": "stream",
          "name": "stdout",
          "text": [
            "\n",
            "   4. Rendimiento por Categoría de Producto:\n",
            "Promedio de Compra por Categoría (Category_avg_Purchase):\n",
            "Category\n",
            "Accessories    1.29\n",
            "Clothing       1.30\n",
            "Footwear       1.31\n",
            "Outerwear      1.30\n",
            "Name: Purchase Amount (USD), dtype: float64\n",
            "\n",
            "Total de Ventas por Categoría:\n",
            "Category\n",
            "Accessories    392.207576\n",
            "Clothing       577.249363\n",
            "Footwear       200.531281\n",
            "Outerwear      101.526219\n",
            "Name: Purchase Amount (USD), dtype: float64\n"
          ]
        }
      ]
    },
    {
      "cell_type": "markdown",
      "source": [
        "##### Impacto del Descuento"
      ],
      "metadata": {
        "id": "Z96iyeih_m8c"
      }
    },
    {
      "cell_type": "code",
      "source": [
        "# Cálculo del promedio de compra con y sin descuento para su posterior comparación\n",
        "avg_purchase_with_discount    = data[data['Discount Applied']=='Yes']['Purchase Amount (USD)'].mean()\n",
        "avg_purchase_without_discount = data[data['Discount Applied']=='No']['Purchase Amount (USD)'].mean()\n",
        "print(f\"\\n  5. Impacto del Descuento:\")\n",
        "print(f\"Promedio de Compra con Descuento: {avg_purchase_with_discount:.2f} USD\")\n",
        "print(f\"Promedio de Compra sin Descuento: {avg_purchase_without_discount:.2f} USD\")\n",
        "print(f\"Diferencia:{avg_purchase_with_discount - avg_purchase_without_discount:.2f} USD\")\n",
        "\n",
        "# Cálculo del porcentaje de compra con descuento\n",
        "discount_percentage           = data['Discount Applied'].value_counts(normalize=True)['Yes']*100\n",
        "print(f\"Porcentaje de compras  con Descuento Aplicado: {discount_percentage:.2f}%\")"
      ],
      "metadata": {
        "colab": {
          "base_uri": "https://localhost:8080/"
        },
        "id": "JnnoFy65l4Db",
        "outputId": "cf49ecd8-e5ea-4e59-972e-7768f7913436"
      },
      "execution_count": null,
      "outputs": [
        {
          "output_type": "stream",
          "name": "stdout",
          "text": [
            "\n",
            "  5. Impacto del Descuento:\n",
            "Promedio de Compra con Descuento: 1.30 USD\n",
            "Promedio de Compra sin Descuento: 1.30 USD\n",
            "Diferencia:-0.01 USD\n",
            "Porcentaje de compras  con Descuento Aplicado: 41.10%\n"
          ]
        }
      ]
    },
    {
      "cell_type": "markdown",
      "source": [
        "##### Distribución de segmentos de clientes"
      ],
      "metadata": {
        "id": "-BfqorQRA4xZ"
      }
    },
    {
      "cell_type": "code",
      "source": [
        "# Cálculo de segmentación\n",
        "segment_distribution = data['Customer_Segment'].value_counts(normalize=True)*100\n",
        "print(f\"\\n  6. Distribución de Segmentos de clientes:\")\n",
        "print(segment_distribution.round(2))\n",
        "\n",
        "print(\"\\n Características promedio por Segmento de Cliente:\")\n",
        "segment_summary = data.groupby('Customer_Segment')[['Age','Purchase Amount (USD)','Loyalty_Score','Purchase_Frequency_Score']].mean().round(2)\n",
        "print(segment_summary)"
      ],
      "metadata": {
        "colab": {
          "base_uri": "https://localhost:8080/"
        },
        "id": "GwodxwJOolIm",
        "outputId": "f4fbc931-8fba-4e9d-ae8e-58031d711cab"
      },
      "execution_count": null,
      "outputs": [
        {
          "output_type": "stream",
          "name": "stdout",
          "text": [
            "\n",
            "  6. Distribución de Segmentos de clientes:\n",
            "Customer_Segment\n",
            "0    64.52\n",
            "1    21.06\n",
            "2    14.42\n",
            "Name: proportion, dtype: float64\n",
            "\n",
            " Características promedio por Segmento de Cliente:\n",
            "                    Age  Purchase Amount (USD)  Loyalty_Score  \\\n",
            "Customer_Segment                                                \n",
            "0                 45.30                   1.31           0.00   \n",
            "1                 42.86                   1.30           0.80   \n",
            "2                 41.06                   1.27          -1.11   \n",
            "\n",
            "                  Purchase_Frequency_Score  \n",
            "Customer_Segment                            \n",
            "0                                    -0.09  \n",
            "1                                    -0.69  \n",
            "2                                     1.30  \n"
          ]
        }
      ]
    },
    {
      "cell_type": "markdown",
      "source": [
        "##### Tasa de Anomalías"
      ],
      "metadata": {
        "id": "YB-5jWuxpIE2"
      }
    },
    {
      "cell_type": "code",
      "source": [
        "anomaly_rate = data['Anomaly_Flag'].value_counts(normalize=True)[True]*100\n",
        "print(f\"\\n  7. Tasa de Anomalías:{anomaly_rate:.2f}%\")\n",
        "\n",
        "# Características de las transacciones anómalas\n",
        "if True in data['Anomaly_Flag'].unique():\n",
        "  anomalous_transactions = data[data['Anomaly_Flag']==True]\n",
        "  print(\"\\nEstadística de Transacciones Anómalas:\")\n",
        "  print(anomalous_transactions[['Purchase Amount (USD)','Loyalty_Score','Customer_Segment']].describe().round(2))\n",
        "else:\n",
        "  print(\"\\nNo hay transacciones marcadas como anómalas en el dataset\")"
      ],
      "metadata": {
        "colab": {
          "base_uri": "https://localhost:8080/"
        },
        "id": "-MoUkR2Uw1j7",
        "outputId": "b9761bd3-63e7-47e5-c37a-2d9d7af49a56"
      },
      "execution_count": null,
      "outputs": [
        {
          "output_type": "stream",
          "name": "stdout",
          "text": [
            "\n",
            "  7. Tasa de Anomalías:18.40%\n",
            "\n",
            "Estadística de Transacciones Anómalas:\n",
            "       Purchase Amount (USD)  Loyalty_Score  Customer_Segment\n",
            "count                 180.00         180.00            180.00\n",
            "mean                    1.48          -0.08              0.68\n",
            "std                     0.21           1.47              0.74\n",
            "min                     0.90          -3.46              0.00\n",
            "25%                     1.36          -0.92              0.00\n",
            "50%                     1.53          -0.09              1.00\n",
            "75%                     1.66           0.98              1.00\n",
            "max                     1.70           3.51              2.00\n"
          ]
        }
      ]
    },
    {
      "cell_type": "markdown",
      "source": [
        "##### Preferencias de pago y envío"
      ],
      "metadata": {
        "id": "eDvX_QpRpTye"
      }
    },
    {
      "cell_type": "code",
      "source": [
        "print(\"\\n Preferencías de Pago y Envio:\")\n",
        "print(\"\\n Distribución de Métodos de Pago:\")\n",
        "print(data['Payment Method'].value_counts(normalize=True),round(2))\n",
        "\n",
        "print(\"\\n Distribución de Tipos de Envío:\")\n",
        "print(data['Shipping Type'].value_counts(normalize=True),round(2))"
      ],
      "metadata": {
        "colab": {
          "base_uri": "https://localhost:8080/"
        },
        "id": "gXP4PCd5yr_K",
        "outputId": "ffd7c4ae-a0fe-4cee-9d9e-162259c2fd1a"
      },
      "execution_count": null,
      "outputs": [
        {
          "output_type": "stream",
          "name": "stdout",
          "text": [
            "\n",
            " Preferencías de Pago y Envio:\n",
            "\n",
            " Distribución de Métodos de Pago:\n",
            "Payment Method\n",
            "Credit Card      0.199387\n",
            "Venmo            0.183027\n",
            "Cash             0.162577\n",
            "Bank Transfer    0.155419\n",
            "Paypal           0.151329\n",
            "Debit Card       0.148262\n",
            "Name: proportion, dtype: float64 2\n",
            "\n",
            " Distribución de Tipos de Envío:\n",
            "Shipping Type\n",
            "Express           0.178937\n",
            "Free Shipping     0.174847\n",
            "2-Day Shipping    0.167689\n",
            "Store Pickup      0.164622\n",
            "Standard          0.163599\n",
            "Next Day Air      0.150307\n",
            "Name: proportion, dtype: float64 2\n"
          ]
        }
      ]
    },
    {
      "cell_type": "markdown",
      "source": [
        "## 5. Resultados y Discusión\n",
        "\n",
        "- El análisis revela diferencias notables entre los **segmentos de clientes**:  \n",
        "  - Los clientes jóvenes (18–25) tienen mayor sensibilidad a descuentos.  \n",
        "  - Los clientes leales mantienen montos promedio más estables.  \n",
        "- La **temporada de compras** influye directamente en el volumen de ventas, destacando los periodos de invierno como los más activos.  \n",
        "- Se identificó que ciertos métodos de pago (ej. tarjetas de crédito) están asociados con un gasto mayor.  \n",
        "\n",
        "Estas observaciones pueden orientar a la empresa en la **definición de estrategias de marketing personalizadas**.  \n"
      ],
      "metadata": {
        "id": "qxBoHq8AbQp0"
      }
    },
    {
      "cell_type": "markdown",
      "source": [
        "## *6. Visualización*"
      ],
      "metadata": {
        "id": "-iPj2wuiz4Gp"
      }
    },
    {
      "cell_type": "code",
      "source": [
        "plt.figure(figsize=(12,6))\n",
        "sns.barplot(x=category_performance.index, y=category_performance.values, palette='viridis')\n",
        "plt.title('Valor Promedio de Compra (AOV) por Categoría de Producto')\n",
        "plt.xlabel('Categoría')\n",
        "plt.ylabel('AOV (USD)')\n",
        "plt.xticks(rotation=0, ha='right')\n",
        "plt.tight_layout()\n",
        "plt.show()"
      ],
      "metadata": {
        "colab": {
          "base_uri": "https://localhost:8080/",
          "height": 694
        },
        "id": "HctvO2uP0q_H",
        "outputId": "88581ca7-b8ad-47b8-aaac-30b9dc274169"
      },
      "execution_count": null,
      "outputs": [
        {
          "output_type": "stream",
          "name": "stderr",
          "text": [
            "/tmp/ipython-input-3751562703.py:2: FutureWarning: \n",
            "\n",
            "Passing `palette` without assigning `hue` is deprecated and will be removed in v0.14.0. Assign the `x` variable to `hue` and set `legend=False` for the same effect.\n",
            "\n",
            "  sns.barplot(x=category_performance.index, y=category_performance.values, palette='viridis')\n"
          ]
        },
        {
          "output_type": "display_data",
          "data": {
            "text/plain": [
              "<Figure size 1200x600 with 1 Axes>"
            ],
            "image/png": "[encoded data removed]"
          },
          "metadata": {}
        }
      ]
    },
    {
      "cell_type": "code",
      "source": [
        "plt.figure(figsize=(8,8))\n",
        "plt.pie(segment_distribution, labels=segment_distribution.index, autopct='%1.1f%%', startangle=140,colors=sns.color_palette('pastel'))\n",
        "plt.title('Distribución de Clientes por Segmento')\n",
        "plt.axis('equal')\n",
        "plt.show()"
      ],
      "metadata": {
        "colab": {
          "base_uri": "https://localhost:8080/",
          "height": 628
        },
        "id": "XfhwpaeU85wy",
        "outputId": "db8ff5d4-99fc-4d2b-83db-741f04ac34f4"
      },
      "execution_count": null,
      "outputs": [
        {
          "output_type": "display_data",
          "data": {
            "text/plain": [
              "<Figure size 800x800 with 1 Axes>"
            ],
            "image/png": "[encoded data removed]"
          },
          "metadata": {}
        }
      ]
    },
    {
      "cell_type": "code",
      "source": [
        "plt.figure(figsize=(8,6))\n",
        "sns.barplot(x=['Con Descuento','Sin Descuento'],y=[avg_purchase_with_discount, avg_purchase_without_discount],palette='coolwarm')\n",
        "plt.xlabel('Aplicación de Descuento')\n",
        "plt.ylabel('AOV (USD)')\n",
        "plt.show()"
      ],
      "metadata": {
        "colab": {
          "base_uri": "https://localhost:8080/",
          "height": 575
        },
        "id": "CemYon5m-M1U",
        "outputId": "c3d6eef7-b262-4270-bd85-20f54c63baa7"
      },
      "execution_count": null,
      "outputs": [
        {
          "output_type": "stream",
          "name": "stderr",
          "text": [
            "/tmp/ipython-input-2038435567.py:2: FutureWarning: \n",
            "\n",
            "Passing `palette` without assigning `hue` is deprecated and will be removed in v0.14.0. Assign the `x` variable to `hue` and set `legend=False` for the same effect.\n",
            "\n",
            "  sns.barplot(x=['Con Descuento','Sin Descuento'],y=[avg_purchase_with_discount, avg_purchase_without_discount],palette='coolwarm')\n"
          ]
        },
        {
          "output_type": "display_data",
          "data": {
            "text/plain": [
              "<Figure size 800x600 with 1 Axes>"
            ],
            "image/png": "[encoded data removed]"
          },
          "metadata": {}
        }
      ]
    },
    {
      "cell_type": "code",
      "source": [
        "plt.figure(figsize=(10,6))\n",
        "sns.histplot(data['Loyalty_Score'],kde=True,bins=30,color='skyblue')\n",
        "plt.axvline(loyalty_threshold, color='red',linestyle='--',label=f'Umbral de Lealtad({loyalty_threshold:.2f})')\n",
        "plt.title('Distribution de Puntación de Lealtad (Loyalty_Score)')\n",
        "plt.xlabel('Loyalty_Score')\n",
        "plt.ylabel('Frecuencia')\n",
        "plt.legend()\n",
        "plt.show()"
      ],
      "metadata": {
        "colab": {
          "base_uri": "https://localhost:8080/",
          "height": 565
        },
        "id": "qNTeEqyL_Ewi",
        "outputId": "3654a44e-a7ca-41ec-9821-ac1447bda704"
      },
      "execution_count": null,
      "outputs": [
        {
          "output_type": "display_data",
          "data": {
            "text/plain": [
              "<Figure size 1000x600 with 1 Axes>"
            ],
            "image/png": "[encoded data removed]"
          },
          "metadata": {}
        }
      ]
    },
    {
      "cell_type": "code",
      "source": [
        "plt.figure(figsize=(12,6))\n",
        "sns.barplot(x='Age_Group',y='Purchase_Frequency_Score',data=data, palette='mako', order=data['Age_Group'].value_counts().index)\n",
        "plt.title('Frecuencia de Compra Promedio por Grupo de Edad')\n",
        "plt.xlabel('Grupo de Edad')\n",
        "plt.ylabel('Purchase_Frequency_Score Promedio')\n",
        "plt.show()"
      ],
      "metadata": {
        "colab": {
          "base_uri": "https://localhost:8080/",
          "height": 651
        },
        "id": "mLqTiCbTDIfx",
        "outputId": "ee124bc6-ad54-42ba-9e47-85f7cc34a8cd"
      },
      "execution_count": null,
      "outputs": [
        {
          "output_type": "stream",
          "name": "stderr",
          "text": [
            "/tmp/ipython-input-1746688983.py:2: FutureWarning: \n",
            "\n",
            "Passing `palette` without assigning `hue` is deprecated and will be removed in v0.14.0. Assign the `x` variable to `hue` and set `legend=False` for the same effect.\n",
            "\n",
            "  sns.barplot(x='Age_Group',y='Purchase_Frequency_Score',data=data, palette='mako', order=data['Age_Group'].value_counts().index)\n"
          ]
        },
        {
          "output_type": "display_data",
          "data": {
            "text/plain": [
              "<Figure size 1200x600 with 1 Axes>"
            ],
            "image/png": "[encoded data removed]"
          },
          "metadata": {}
        }
      ]
    },
    {
      "cell_type": "markdown",
      "metadata": {
        "id": "a2b93c93"
      },
      "source": [
        "## *7. Conclusiones y Recomendaciones*\n",
        "\n",
        "Basado en el análisis de las tendencias de compra de clientes utilizando el dataset `transformed_shopping_trends.csv`, se derivan las siguientes conclusiones y recomendaciones:\n",
        "\n",
        "**Conclusiones:**\n",
        "\n",
        "*   **Segmentación de Clientes:** El análisis de los `Customer_Segment` revela grupos de clientes con diferentes comportamientos de compra, frecuencias y lealtad. El segmento 2 muestra la mayor frecuencia de compra, mientras que el segmento 1 tiene la mayor lealtad.\n",
        "*   **Impacto Limitado del Descuento:** A pesar de que un porcentaje significativo de compras tuvo descuento aplicado, la diferencia en el valor promedio de compra entre transacciones con y sin descuento es mínima. Esto sugiere que los descuentos actuales podrían no estar influyendo significativamente en el aumento del gasto por transacción.\n",
        "*   **Rendimiento por Categoría:** Las categorías `Clothing` y `Accessories` representan la mayor parte de las ventas totales, mientras que `Footwear` tiene el AOV ligeramente más alto.\n",
        "*   **Estacionalidad:** La temporada de invierno muestra un ligero aumento en el AOV, lo que podría indicar un comportamiento de compra diferente durante este período.\n",
        "*   **Lealtad de Clientes:** Aproximadamente el 25% de los clientes muestran un `Loyalty_Score` elevado, lo que representa una base de clientes valiosa para estrategias de retención.\n",
        "*   **Anomalías:** Existe una tasa notable de transacciones marcadas como anómalas, lo que requiere una investigación más profunda para entender las causas y si representan actividades fraudulentas o errores en los datos.\n",
        "\n",
        "**Recomendaciones:**\n",
        "\n",
        "*   **Estrategias de Marketing Segmentadas:** Diseñar campañas de marketing específicas para cada `Customer_Segment`. Por ejemplo, enfocar promociones de frecuencia para el Segmento 2 y programas de recompensas para el Segmento 1 para fomentar su lealtad.\n",
        "*   **Optimizar la Estrategia de Descuentos:** Reevaluar la estrategia de descuentos. Considerar descuentos dirigidos a segmentos específicos o en categorías de productos de menor rendimiento para evaluar su impacto real en el aumento del valor de compra o la frecuencia.\n",
        "*   **Potenciar Categorías de Alto Rendimiento:** Continuar invirtiendo en las categorías `Clothing` y `Accessories` dada su contribución a las ventas totales. Analizar si el AOV ligeramente mayor en `Footwear` puede ser capitalizado con estrategias específicas para esta categoría.\n",
        "*   **Aprovechar la Estacionalidad:** Capitalizar el aumento de la actividad en invierno mediante campañas promocionales o lanzamiento de productos específicos para esa temporada.\n",
        "*   **Fidelización de Clientes Leales:** Implementar programas de fidelización exclusivos para el 25% de los clientes más leales, ofreciendo beneficios adicionales para mantener su compromiso.\n",
        "*   **Investigación de Anomalías:** Realizar un análisis detallado de las transacciones anómalas para identificar patrones y tomar medidas correctivas, ya sea ajustando los datos, mejorando los procesos de detección de fraude o investigando comportamientos inusuales de clientes.\n",
        "*   **Análisis de Preferencias de Pago y Envío:** Utilizar la información sobre los métodos de pago y tipos de envío preferidos para optimizar las opciones ofrecidas y potencialmente negociar mejores tarifas o condiciones con los proveedores de servicios."
      ]
    },
    {
      "cell_type": "markdown",
      "source": [
        "## *8. Referencias*\n",
        "\n",
        "- Dataset: Mendeley Data. *Transformed Shopping Trends*. Disponible en: [https://data.mendeley.com/datasets/fnhyc6drm8/1](https://data.mendeley.com/datasets/fnhyc6drm8/1)  \n",
        "- Han, J., Kamber, M., & Pei, J. (2012). *Data Mining: Concepts and Techniques*. Morgan Kaufmann.  \n",
        "- Provost, F., & Fawcett, T. (2013). *Data Science for Business*. O’Reilly Media.  "
      ],
      "metadata": {
        "id": "ieBzkHpw2cTw"
      }
    }
  ]
}